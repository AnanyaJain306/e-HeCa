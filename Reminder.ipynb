{
 "cells": [
  {
   "cell_type": "markdown",
   "metadata": {},
   "source": [
    "# REMINDER"
   ]
  },
  {
   "cell_type": "code",
   "execution_count": 3,
   "metadata": {},
   "outputs": [
    {
     "name": "stdout",
     "output_type": "stream",
     "text": [
      "Enter the time :21:07\n",
      "Enter the medicine namenjkna\n",
      "21:07\n",
      "2019-11-06\n"
     ]
    }
   ],
   "source": [
    "from datetime import datetime\n",
    "from datetime import date\n",
    "time_in=input(\"Enter the time in 24 hours format:\")\n",
    "rem=input(\"Enter the medicine name:\")\n",
    "while True:\n",
    "    now= datetime.now()\n",
    "    current_time=now.strftime(\"%H:%M\")\n",
    "    if(time_in==current_time):\n",
    "        break\n",
    "print(current_time)\n",
    "print(date.today())"
   ]
  }
 ],
 "metadata": {
  "kernelspec": {
   "display_name": "Python 3",
   "language": "python",
   "name": "python3"
  },
  "language_info": {
   "codemirror_mode": {
    "name": "ipython",
    "version": 3
   },
   "file_extension": ".py",
   "mimetype": "text/x-python",
   "name": "python",
   "nbconvert_exporter": "python",
   "pygments_lexer": "ipython3",
   "version": "3.7.3"
  }
 },
 "nbformat": 4,
 "nbformat_minor": 2
}
